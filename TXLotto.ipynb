{
 "cells": [
  {
   "cell_type": "code",
   "execution_count": 1,
   "id": "42157358",
   "metadata": {},
   "outputs": [],
   "source": [
    "import numpy as np \n",
    "import pandas as pd \n",
    "from collections import Counter\n",
    "import matplotlib.pyplot as plt"
   ]
  },
  {
   "cell_type": "markdown",
   "id": "c93f56ed",
   "metadata": {},
   "source": [
    "This code reveals the most and least common drawn numbers in the Texas Lotto (after a specified year)."
   ]
  },
  {
   "cell_type": "code",
   "execution_count": null,
   "id": "0c9a1bc9",
   "metadata": {},
   "outputs": [],
   "source": [
    "# base dataset \n",
    "lotto = pd.read_csv('lottotexas.csv')\n",
    "lotto.tail() "
   ]
  },
  {
   "cell_type": "code",
   "execution_count": 3,
   "id": "420b2fd9",
   "metadata": {},
   "outputs": [
    {
     "name": "stdout",
     "output_type": "stream",
     "text": [
      "      Month  Day  Year           Winning Numbers\n",
      "1370      1    4  2006   [32, 15, 44, 21, 35, 3]\n",
      "1371      1    7  2006    [11, 9, 14, 7, 27, 11]\n",
      "1372      1   11  2006   [18, 36, 6, 10, 44, 24]\n",
      "1373      1   14  2006    [30, 22, 41, 5, 32, 3]\n",
      "1374      1   18  2006    [2, 10, 23, 9, 36, 16]\n",
      "...     ...  ...   ...                       ...\n",
      "3351     11   15  2023   [30, 19, 17, 26, 31, 4]\n",
      "3352     11   18  2023   [21, 16, 30, 46, 45, 5]\n",
      "3353     11   20  2023  [21, 35, 16, 39, 51, 48]\n",
      "3354     11   22  2023   [52, 21, 16, 3, 29, 14]\n",
      "3355     11   25  2023    [13, 30, 21, 16, 9, 8]\n",
      "\n",
      "[1986 rows x 4 columns]\n"
     ]
    },
    {
     "name": "stderr",
     "output_type": "stream",
     "text": [
      "/var/folders/f6/nfgb52n924526xwpfkgqpsc40000gn/T/ipykernel_5896/1362996517.py:11: SettingWithCopyWarning: \n",
      "A value is trying to be set on a copy of a slice from a DataFrame.\n",
      "Try using .loc[row_indexer,col_indexer] = value instead\n",
      "\n",
      "See the caveats in the documentation: https://pandas.pydata.org/pandas-docs/stable/user_guide/indexing.html#returning-a-view-versus-a-copy\n",
      "  filtered_df['Winning Numbers'] = filtered_df[['Num1', 'Num2', 'Num3', 'Num4', 'Num5', 'Num6']].values.tolist()\n"
     ]
    }
   ],
   "source": [
    "# Adding column headings\n",
    "lotto.columns = ['Game Name', 'Month', 'Day', 'Year', 'Num1', 'Num2', 'Num3', 'Num4', 'Num5', 'Num6']\n",
    "\n",
    "# Removing the first column since it is repeated ('Game Name')\n",
    "lotto_clean = lotto.drop(columns=['Game Name'])\n",
    "\n",
    "# Filter by year (optional)\n",
    "filtered_df = lotto_clean[lotto_clean['Year'] >= 2006]\n",
    "\n",
    "# Combine Num1 to Num6 into a single column 'Winning Numbers'\n",
    "filtered_df['Winning Numbers'] = filtered_df[['Num1', 'Num2', 'Num3', 'Num4', 'Num5', 'Num6']].values.tolist()\n",
    "\n",
    "# Drop the individual Num1 to Num6 columns\n",
    "filtered_df = filtered_df.drop(columns=['Num1', 'Num2', 'Num3', 'Num4', 'Num5', 'Num6'])\n",
    "\n",
    "# Displaying the updated DataFrame\n",
    "print(filtered_df)"
   ]
  },
  {
   "cell_type": "code",
   "execution_count": null,
   "id": "92ea6a9e",
   "metadata": {},
   "outputs": [],
   "source": [
    "# Count occurrences of each number\n",
    "number_counts = Counter(numbers_rolled)\n",
    "\n",
    "# Sort the counts by the number in descending order\n",
    "sorted_counts = sorted(number_counts.items(), key=lambda x: x[0], reverse=False)\n",
    "\n",
    "# Displaying the counts in ascending order\n",
    "for number, count in sorted_counts:\n",
    "    print(f\"Number Rolled: {number}, Count: {count}\")\n"
   ]
  },
  {
   "cell_type": "code",
   "execution_count": 130,
   "id": "e4ba33b8",
   "metadata": {},
   "outputs": [
    {
     "name": "stdout",
     "output_type": "stream",
     "text": [
      "Number Rolled: 8, Count: 256\n",
      "Number Rolled: 26, Count: 249\n",
      "Number Rolled: 31, Count: 247\n",
      "Number Rolled: 4, Count: 246\n",
      "Number Rolled: 21, Count: 243\n",
      "Number Rolled: 19, Count: 243\n"
     ]
    }
   ],
   "source": [
    "# Sort the counts in descending order\n",
    "sorted_top_counts = sorted(number_counts.items(), key=lambda x: x[1], reverse=True) \n",
    "\n",
    "# Displaying the top 6 highest counts \n",
    "for number, count in sorted_top_counts[:6]:     \n",
    "    print(f\"Number Rolled: {number}, Count: {count}\")\n"
   ]
  },
  {
   "cell_type": "code",
   "execution_count": 131,
   "id": "36ff7857",
   "metadata": {},
   "outputs": [
    {
     "name": "stdout",
     "output_type": "stream",
     "text": [
      "Number Rolled: 47, Count: 198\n",
      "Number Rolled: 11, Count: 196\n",
      "Number Rolled: 50, Count: 193\n",
      "Number Rolled: 48, Count: 193\n",
      "Number Rolled: 33, Count: 191\n",
      "Number Rolled: 45, Count: 180\n"
     ]
    }
   ],
   "source": [
    "# Displaying the least 6 common counts \n",
    "for number, count in sorted_top_counts[-6:]:\n",
    "    print(f\"Number Rolled: {number}, Count: {count}\")\n"
   ]
  },
  {
   "cell_type": "code",
   "execution_count": 132,
   "id": "14ddfbac",
   "metadata": {},
   "outputs": [
    {
     "data": {
      "image/png": "[encoded data removed]",
      "text/plain": [
       "<Figure size 1200x600 with 1 Axes>"
      ]
     },
     "metadata": {},
     "output_type": "display_data"
    }
   ],
   "source": [
    "# Extract numbers and counts\n",
    "numbers = list(number_counts.keys())\n",
    "counts = list(number_counts.values())\n",
    "\n",
    "# Set the figure size\n",
    "plt.figure(figsize=(12, 6))\n",
    "\n",
    "# Plotting bar chart\n",
    "plt.bar(numbers, counts, color='darkorange', alpha=1, width=0.5)\n",
    "plt.xticks(rotation=45)\n",
    "plt.xlabel('Numbers Rolled')\n",
    "plt.ylabel('Frequency')\n",
    "plt.title('Frequency Distribution of Numbers Rolled')\n",
    "plt.show()\n",
    "\n"
   ]
  },
  {
   "cell_type": "markdown",
   "id": "afb58ae4",
   "metadata": {},
   "source": [
    "Model predictions \n",
    "\n",
    "Hypothesis: If the numbers are truly random, the model's accuracy will be be close to 50%, indicating that it's not performing much better than random chance. \n"
   ]
  },
  {
   "cell_type": "code",
   "execution_count": 152,
   "id": "d245c3b2",
   "metadata": {},
   "outputs": [],
   "source": [
    "from sklearn.linear_model import LogisticRegression\n",
    "from sklearn.ensemble import RandomForestRegressor\n",
    "from sklearn.model_selection import train_test_split\n",
    "from sklearn.metrics import accuracy_score\n",
    "\n",
    "X = filtered_df['Winning Numbers'].shift(1).dropna()  # Shift the winning numbers to represent the past\n",
    "y = filtered_df['Winning Numbers'].dropna()          # Target variable is the actual winning numbers"
   ]
  },
  {
   "cell_type": "code",
   "execution_count": null,
   "id": "67e7fb90",
   "metadata": {},
   "outputs": [],
   "source": [
    "from sklearn.metrics import accuracy_score\n",
    "\n",
    "# Assuming y_test contains the true labels and predictions contains the predicted labels\n",
    "accuracy = accuracy_score(y_test, predictions)\n",
    "print(f\"Model Accuracy: {accuracy}\")\n",
    "\n",
    "# Calculate accuracy for random guessing (assuming two classes)\n",
    "random_accuracy = 0.5\n",
    "print(f\"Random Guessing Accuracy: {random_accuracy}\")\n"
   ]
  },
  {
   "cell_type": "code",
   "execution_count": null,
   "id": "6ba9209e",
   "metadata": {},
   "outputs": [],
   "source": []
  }
 ],
 "metadata": {
  "kernelspec": {
   "display_name": "Python 3 (ipykernel)",
   "language": "python",
   "name": "python3"
  },
  "language_info": {
   "codemirror_mode": {
    "name": "ipython",
    "version": 3
   },
   "file_extension": ".py",
   "mimetype": "text/x-python",
   "name": "python",
   "nbconvert_exporter": "python",
   "pygments_lexer": "ipython3",
   "version": "3.11.5"
  }
 },
 "nbformat": 4,
 "nbformat_minor": 5
}
