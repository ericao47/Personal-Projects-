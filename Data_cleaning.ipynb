{
 "cells": [
  {
   "cell_type": "code",
   "execution_count": 1,
   "id": "208d02d3-e35f-480d-9369-2cf7a168bd1f",
   "metadata": {
    "tags": []
   },
   "outputs": [],
   "source": [
    "import pandas as pd \n",
    "import matplotlib.pyplot as plt \n",
    "import seaborn as sns \n",
    "import os \n",
    "import re \n",
    "from nltk.stem import WordNetLemmatizer \n",
    "from nltk.corpus import stopwords \n",
    "lemma = WordNetLemmatizer() "
   ]
  },
  {
   "cell_type": "code",
   "execution_count": 2,
   "id": "4274c103-6fe9-452c-8302-c4ebdb22aa97",
   "metadata": {
    "tags": []
   },
   "outputs": [],
   "source": [
    "cwd = os.getcwd() "
   ]
  },
  {
   "cell_type": "code",
   "execution_count": 148,
   "id": "cf594cce-5f8c-4a74-86c1-7b1b1a0f5454",
   "metadata": {
    "tags": []
   },
   "outputs": [],
   "source": [
    "df = pd.read_csv(cwd+'/dataReviews_BA.csv')"
   ]
  },
  {
   "cell_type": "code",
   "execution_count": null,
   "id": "af443fdb-02c9-48fb-bb07-fbfcfebdc153",
   "metadata": {},
   "outputs": [],
   "source": [
    "#Cleaning Country Column \n",
    "df['Country'] = df['Country'].str.extract(r'\\((.*?)\\)')"
   ]
  },
  {
   "cell_type": "code",
   "execution_count": 149,
   "id": "fc14bc37-c90a-4de0-b161-ad10d611a0bb",
   "metadata": {
    "tags": []
   },
   "outputs": [
    {
     "data": {
      "text/plain": [
       "0         3rd January 2024\n",
       "1         2nd January 2024\n",
       "2       29th December 2023\n",
       "3       29th December 2023\n",
       "4       27th December 2023\n",
       "               ...        \n",
       "3495      28th August 2014\n",
       "3496      28th August 2014\n",
       "3497      28th August 2014\n",
       "3498      28th August 2014\n",
       "3499      28th August 2014\n",
       "Name: Date, Length: 3500, dtype: object"
      ]
     },
     "execution_count": 149,
     "metadata": {},
     "output_type": "execute_result"
    }
   ],
   "source": [
    "#Cleaning DATE Format \n",
    "df.Date"
   ]
  },
  {
   "cell_type": "code",
   "execution_count": 151,
   "id": "24170cac-cb53-4bbb-8797-8f0c2d60264e",
   "metadata": {
    "tags": []
   },
   "outputs": [],
   "source": [
    "df['Date'] = df['Date'].astype(str).str.replace(r'(\\d+)(st|nd|rd|th)', r'\\1', regex=True)\n",
    "df['Date'] = pd.to_datetime(df['Date'], format='%d %B %Y', errors='coerce')\n",
    "df['Date'] = df['Date'].dt.strftime('%Y-%m-%d')\n",
    "df['Date'] = pd.to_datetime(df['Date'], errors='coerce')\n"
   ]
  },
  {
   "cell_type": "code",
   "execution_count": 153,
   "id": "54224079-0d95-4b39-a50f-14713efba49f",
   "metadata": {
    "tags": []
   },
   "outputs": [],
   "source": [
    "#Adding a Binary Verified Column \n",
    "df['Verified'] = df['Text Reviews'].str.contains('Trip Verified', case=False, na=False)"
   ]
  },
  {
   "cell_type": "code",
   "execution_count": 154,
   "id": "9963a709-39b2-4c32-bfe4-7ed308d7013f",
   "metadata": {
    "tags": []
   },
   "outputs": [],
   "source": [
    "#Cleaning REVIEWS and prepping for lemmatizing \n",
    "from nltk.stem import WordNetLemmatizer\n",
    "from nltk.corpus import stopwords \n",
    "lemma = WordNetLemmatizer() "
   ]
  },
  {
   "cell_type": "code",
   "execution_count": 155,
   "id": "edb00315-1b5c-4907-aef3-038d4869554f",
   "metadata": {
    "tags": []
   },
   "outputs": [],
   "source": [
    "Reviews = df['Text Reviews'].replace(['✅ Trip Verified |', 'Not Verified |'], '', regex=True).str.strip()\n"
   ]
  },
  {
   "cell_type": "code",
   "execution_count": 156,
   "id": "cc939a2e-572c-4567-9673-b044ff78ea10",
   "metadata": {
    "tags": []
   },
   "outputs": [],
   "source": [
    "corpus = []\n",
    "for rev in Reviews:\n",
    "    rev = re.sub('[^a-zA-Z]', ' ', rev)\n",
    "    rev = rev.lower()\n",
    "    rev = rev.split()\n",
    "    rev = ' '.join([lemma.lemmatize(word) for word in rev if word not in set(stopwords.words('english'))]) \n",
    "    corpus.append(rev)\n",
    "df['Corpus'] = corpus"
   ]
  },
  {
   "cell_type": "code",
   "execution_count": 181,
   "id": "fac1d2bc-ff76-4ca4-b953-a78a8b0c7984",
   "metadata": {
    "tags": []
   },
   "outputs": [
    {
     "data": {
      "text/plain": [
       "Index(['Text Reviews', 'Star Rating', 'Date', 'Country', 'Recommends',\n",
       "       'Verified', 'Corpus'],\n",
       "      dtype='object')"
      ]
     },
     "execution_count": 181,
     "metadata": {},
     "output_type": "execute_result"
    }
   ],
   "source": [
    "#checks columns \n",
    "df.columns"
   ]
  },
  {
   "cell_type": "code",
   "execution_count": 185,
   "id": "92bfe7fa-a2a6-48fb-b6ac-2a87168dccaa",
   "metadata": {
    "tags": []
   },
   "outputs": [
    {
     "data": {
      "text/plain": [
       "Star Rating\n",
       "1.0     845\n",
       "2.0     407\n",
       "3.0     390\n",
       "4.0     237\n",
       "5.0     250\n",
       "6.0     172\n",
       "7.0     281\n",
       "8.0     342\n",
       "9.0     281\n",
       "10.0    292\n",
       "Name: count, dtype: int64"
      ]
     },
     "execution_count": 185,
     "metadata": {},
     "output_type": "execute_result"
    }
   ],
   "source": [
    "#views the countr of the ratings 1-10\n",
    "df['Star Rating'].value_counts().sort_index()"
   ]
  },
  {
   "cell_type": "code",
   "execution_count": 193,
   "id": "d2362dc8-0945-4ddb-b03b-6e7600688f1b",
   "metadata": {
    "tags": []
   },
   "outputs": [],
   "source": [
    "df.to_csv('/Users/ericaorona/Desktop/data_collection/Prepped_Reviews.csv', index=True, header=True)\n"
   ]
  },
  {
   "cell_type": "code",
   "execution_count": null,
   "id": "e1661da2-fab4-42c2-9a3a-5db6ea241fdd",
   "metadata": {},
   "outputs": [],
   "source": []
  },
  {
   "cell_type": "code",
   "execution_count": null,
   "id": "22c858b0-9f3b-45e0-927c-4ff1de3a15dd",
   "metadata": {},
   "outputs": [],
   "source": []
  }
 ],
 "metadata": {
  "kernelspec": {
   "display_name": "Python 3 (ipykernel)",
   "language": "python",
   "name": "python3"
  },
  "language_info": {
   "codemirror_mode": {
    "name": "ipython",
    "version": 3
   },
   "file_extension": ".py",
   "mimetype": "text/x-python",
   "name": "python",
   "nbconvert_exporter": "python",
   "pygments_lexer": "ipython3",
   "version": "3.11.5"
  }
 },
 "nbformat": 4,
 "nbformat_minor": 5
}
